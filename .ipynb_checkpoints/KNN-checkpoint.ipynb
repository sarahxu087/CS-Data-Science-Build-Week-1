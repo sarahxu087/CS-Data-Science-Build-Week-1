{
 "cells": [
  {
   "cell_type": "code",
   "execution_count": 1,
   "metadata": {},
   "outputs": [],
   "source": [
    "import numpy as np\n",
    "from collections import Counter"
   ]
  },
  {
   "cell_type": "code",
   "execution_count": 2,
   "metadata": {},
   "outputs": [],
   "source": [
    "def E_Distance(x1, x2):\n",
    "    d = 0.0\n",
    "    for i in range(len(x1)-1):\n",
    "        d += pow((float(x1[i])-float(x2[i])),2)  #euclidean distance\n",
    "    d = math.sqrt(d)\n",
    "    return d"
   ]
  },
  {
   "cell_type": "code",
   "execution_count": 3,
   "metadata": {},
   "outputs": [],
   "source": [
    "class KNN():\n",
    "    def __init__(self,k_value):\n",
    "        self.k_value=k_value\n",
    "        \n",
    "    def fit(self,X,y):\n",
    "        self.X_train = X\n",
    "        self.y_train = y\n",
    "        \n",
    "    def predict(self,X):\n",
    "        distances =[E_Distance(x, x_train) for x_train in self.X_train]\n",
    "        votes=[self.y_train[i] for i in sorted(distances)[:self.k_value]]\n",
    "        vote_result = Counter(votes).most_common(1)[0][0]\n",
    "        return vote_result"
   ]
  },
  {
   "cell_type": "code",
   "execution_count": null,
   "metadata": {},
   "outputs": [],
   "source": []
  }
 ],
 "metadata": {
  "kernelspec": {
   "display_name": "Python 3",
   "language": "python",
   "name": "python3"
  },
  "language_info": {
   "codemirror_mode": {
    "name": "ipython",
    "version": 3
   },
   "file_extension": ".py",
   "mimetype": "text/x-python",
   "name": "python",
   "nbconvert_exporter": "python",
   "pygments_lexer": "ipython3",
   "version": "3.7.4"
  }
 },
 "nbformat": 4,
 "nbformat_minor": 2
}
